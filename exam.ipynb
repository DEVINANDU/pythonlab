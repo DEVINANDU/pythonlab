{
  "nbformat": 4,
  "nbformat_minor": 0,
  "metadata": {
    "colab": {
      "provenance": [],
      "authorship_tag": "ABX9TyN8ujPRcNkW9QWjZJNso+F9",
      "include_colab_link": true
    },
    "kernelspec": {
      "name": "python3",
      "display_name": "Python 3"
    },
    "language_info": {
      "name": "python"
    }
  },
  "cells": [
    {
      "cell_type": "markdown",
      "metadata": {
        "id": "view-in-github",
        "colab_type": "text"
      },
      "source": [
        "<a href=\"https://colab.research.google.com/github/DEVINANDU/pythonlab/blob/main/exam.ipynb\" target=\"_parent\"><img src=\"https://colab.research.google.com/assets/colab-badge.svg\" alt=\"Open In Colab\"/></a>"
      ]
    },
    {
      "cell_type": "code",
      "execution_count": null,
      "metadata": {
        "id": "LDy77Veih-65",
        "colab": {
          "base_uri": "https://localhost:8080/"
        },
        "outputId": "51ff90e6-e079-47c3-9d9f-f8e7aefcfbe5"
      },
      "outputs": [
        {
          "output_type": "stream",
          "name": "stdout",
          "text": [
            "enter first number\t8\n",
            "enter second number\t2\n",
            "gcd is = 2\n"
          ]
        }
      ],
      "source": [
        "a=int(input(\"enter first number\\t\"))\n",
        "b=int(input(\"enter second number\\t\"))\n",
        "#if a<b:\n",
        " # t=a\n",
        " # a=b\n",
        " # b=t\n",
        "r=b\n",
        "while r:\n",
        "  if a%r == 0 and b%r == 0:\n",
        "    break\n",
        "  r=r-1\n",
        "print(\"gcd is =\",r)\n"
      ]
    },
    {
      "cell_type": "code",
      "source": [
        "a=int(input(\"Enter a year greater than 2022\\t\"))\n",
        "if a>2022:\n",
        "  if a%4==0:\n",
        "    print(a,\"\\tis a leap year\")\n",
        "  else:\n",
        "    print(a,\"\\tis not a leap year\")\n",
        "else:\n",
        "   print(\"\\tEnter a year more than 2022\")\n",
        "\n"
      ],
      "metadata": {
        "colab": {
          "base_uri": "https://localhost:8080/"
        },
        "id": "QfCbPYr9j98q",
        "outputId": "d51dc2c0-c416-48d2-a32d-0003b50f07dd"
      },
      "execution_count": 3,
      "outputs": [
        {
          "output_type": "stream",
          "name": "stdout",
          "text": [
            "Enter a year greater than 2022\t2033\n",
            "2033 \tis not a leap year\n"
          ]
        }
      ]
    }
  ]
}